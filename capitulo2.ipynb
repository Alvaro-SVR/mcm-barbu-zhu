{
 "cells": [
  {
   "metadata": {},
   "cell_type": "markdown",
   "source": "# Construyendo Self Avoiding Walk",
   "id": "8a77807f92f26ee"
  },
  {
   "metadata": {
    "ExecuteTime": {
     "end_time": "2025-07-25T18:11:24.578206Z",
     "start_time": "2025-07-25T18:11:24.575634Z"
    }
   },
   "cell_type": "code",
   "source": [
    "import numpy as np\n",
    "import matplotlib.pyplot as plt"
   ],
   "id": "892d6b363258128d",
   "outputs": [],
   "execution_count": 128
  },
  {
   "metadata": {
    "ExecuteTime": {
     "end_time": "2025-07-25T18:11:27.516479Z",
     "start_time": "2025-07-25T18:11:27.512293Z"
    }
   },
   "cell_type": "code",
   "source": [
    "def C_plano(m,n):\n",
    "    if m < 3 or n < 3:\n",
    "        raise Exception('m and n must be greater than 3')\n",
    "    plano = np.zeros((m,n))\n",
    "    plano[0,:] = 1.0\n",
    "    plano[m-1,:] = 1.0\n",
    "    plano[:,0] = 1.0\n",
    "    plano[:,n-1] = 1.0\n",
    "    return plano"
   ],
   "id": "7acd430d5b58989",
   "outputs": [],
   "execution_count": 129
  },
  {
   "metadata": {
    "ExecuteTime": {
     "end_time": "2025-07-25T18:36:34.881486Z",
     "start_time": "2025-07-25T18:36:34.877Z"
    }
   },
   "cell_type": "code",
   "source": [
    "def check_surr(plano_b, m, n):\n",
    "    dir = np.array([[1, 0], [-1, 0], [0, 1], [0, -1]])\n",
    "    vecinos = dir + [m, n]\n",
    "    valores = plano_b[vecinos[:, 0], vecinos[:, 1]]\n",
    "    indices_cero = np.where(valores == 0)[0]\n",
    "    if len(indices_cero) == 0:\n",
    "        return False\n",
    "    indice_aleatorio = np.random.choice(indices_cero)\n",
    "    nueva_pos = vecinos[indice_aleatorio]\n",
    "    return nueva_pos[0], nueva_pos[1], len(indices_cero)"
   ],
   "id": "c60e7d6980992665",
   "outputs": [],
   "execution_count": 145
  },
  {
   "metadata": {
    "ExecuteTime": {
     "end_time": "2025-07-25T22:42:31.181018Z",
     "start_time": "2025-07-25T22:42:31.169148Z"
    }
   },
   "cell_type": "code",
   "source": [
    "def graficar_camino(coord_list, m, n):\n",
    "    if not coord_list:\n",
    "        raise ValueError(\"La lista de coordenadas está vacía\")\n",
    "\n",
    "    xs, ys = zip(*coord_list)\n",
    "\n",
    "    plt.figure(figsize=(n / 2, m / 2))\n",
    "    plt.plot(xs, ys, color='red', linewidth=2)\n",
    "    plt.xlim(0, n)\n",
    "    plt.ylim(0, m)\n",
    "\n",
    "    plt.grid(True)\n",
    "    plt.xticks(range(n+1))\n",
    "    plt.yticks(range(m+1))\n",
    "    plt.gca().set_aspect('equal')\n",
    "    plt.title('Self Avoiding Walk')\n",
    "    plt.show()"
   ],
   "id": "da909062dc4a0779",
   "outputs": [],
   "execution_count": 146
  },
  {
   "metadata": {
    "ExecuteTime": {
     "end_time": "2025-07-25T18:36:14.457869Z",
     "start_time": "2025-07-25T18:36:14.453422Z"
    }
   },
   "cell_type": "code",
   "source": [
    "def construir_camino(p, q):\n",
    "    plano = C_plano(p, q)\n",
    "    plano[1,1] = 1.0\n",
    "    cord_x, cord_y = 1, 1\n",
    "    listado = [[cord_x, cord_y]]\n",
    "    k_j = []\n",
    "    while check_surr(plano, cord_x, cord_y):\n",
    "        cord_x, cord_y, num_k = check_surr(plano, cord_x, cord_y)\n",
    "        listado.append([cord_x, cord_y])\n",
    "        k_j.append(num_k)\n",
    "        plano[cord_x, cord_y] = 1.0\n",
    "    return listado, k_j"
   ],
   "id": "a5f1805e2b7f8dd9",
   "outputs": [],
   "execution_count": 142
  },
  {
   "metadata": {
    "ExecuteTime": {
     "end_time": "2025-07-25T22:42:35.617611Z",
     "start_time": "2025-07-25T22:42:35.447732Z"
    }
   },
   "cell_type": "code",
   "source": [
    "try2, k_j= construir_camino(12, 12)\n",
    "graficar_camino(try2, 12, 12)"
   ],
   "id": "93c1c8a62f0f9f2",
   "outputs": [
    {
     "data": {
      "text/plain": [
       "<Figure size 600x600 with 1 Axes>"
      ],
      "image/png": "[encoded data removed]"
     },
     "metadata": {},
     "output_type": "display_data"
    }
   ],
   "execution_count": 147
  },
  {
   "metadata": {},
   "cell_type": "markdown",
   "source": "Diseño 1 de g(x)",
   "id": "9539451f5b3d2108"
  },
  {
   "metadata": {
    "ExecuteTime": {
     "end_time": "2025-07-25T18:26:49.169765Z",
     "start_time": "2025-07-25T18:26:49.166291Z"
    }
   },
   "cell_type": "code",
   "source": [
    "def g1(KJ):\n",
    "    return 1/np.prod(KJ)"
   ],
   "id": "a745b43b2f7aab98",
   "outputs": [],
   "execution_count": 136
  },
  {
   "metadata": {
    "ExecuteTime": {
     "end_time": "2025-07-25T18:26:50.679925Z",
     "start_time": "2025-07-25T18:26:50.674146Z"
    }
   },
   "cell_type": "code",
   "source": "g1(k_j)",
   "id": "b66c6e308dcb433f",
   "outputs": [
    {
     "data": {
      "text/plain": [
       "np.float64(3.5722450845907635e-06)"
      ]
     },
     "execution_count": 137,
     "metadata": {},
     "output_type": "execute_result"
    }
   ],
   "execution_count": 137
  },
  {
   "metadata": {},
   "cell_type": "code",
   "outputs": [],
   "execution_count": null,
   "source": "def aproximacion_g1(jh)",
   "id": "79a483b912ad8b5b"
  }
 ],
 "metadata": {
  "kernelspec": {
   "display_name": "Python 3",
   "language": "python",
   "name": "python3"
  },
  "language_info": {
   "codemirror_mode": {
    "name": "ipython",
    "version": 2
   },
   "file_extension": ".py",
   "mimetype": "text/x-python",
   "name": "python",
   "nbconvert_exporter": "python",
   "pygments_lexer": "ipython2",
   "version": "2.7.6"
  }
 },
 "nbformat": 4,
 "nbformat_minor": 5
}
